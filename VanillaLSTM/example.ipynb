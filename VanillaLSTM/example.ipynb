{
 "cells": [
  {
   "cell_type": "markdown",
   "metadata": {},
   "source": [
    "# Vanilla LSTM implementation from scratch"
   ]
  },
  {
   "cell_type": "markdown",
   "metadata": {},
   "source": [
    "![title](LSTMForward_diagram.png)"
   ]
  },
  {
   "cell_type": "markdown",
   "metadata": {},
   "source": [
    "## 1. Imports"
   ]
  },
  {
   "cell_type": "code",
   "execution_count": 1,
   "metadata": {},
   "outputs": [],
   "source": [
    "import matplotlib.pyplot as plt"
   ]
  },
  {
   "cell_type": "markdown",
   "metadata": {},
   "source": [
    "## 2. Data Preparation"
   ]
  },
  {
   "cell_type": "code",
   "execution_count": 2,
   "metadata": {},
   "outputs": [],
   "source": [
    "data = open('Downloads/HP1.txt').read().lower()"
   ]
  },
  {
   "cell_type": "code",
   "execution_count": 3,
   "metadata": {},
   "outputs": [
    {
     "name": "stdout",
     "output_type": "stream",
     "text": [
      "data has 442744 characters, 54 unique\n"
     ]
    }
   ],
   "source": [
    "chars = set(data)\n",
    "vocab_size = len(chars)\n",
    "\n",
    "print('data has %d characters, %d unique' % (len(data), vocab_size))"
   ]
  },
  {
   "cell_type": "code",
   "execution_count": 4,
   "metadata": {},
   "outputs": [],
   "source": [
    "# creating dictionaries for mapping chars to ints and vice versa\n",
    "char_to_idx = {w: i for i,w in enumerate(chars)}\n",
    "idx_to_char = {i: w for i,w in enumerate(chars)}"
   ]
  },
  {
   "cell_type": "markdown",
   "metadata": {},
   "source": [
    "## 3. Load and run model"
   ]
  },
  {
   "cell_type": "code",
   "execution_count": 5,
   "metadata": {},
   "outputs": [],
   "source": [
    "%run VanillaLSTM.py"
   ]
  },
  {
   "cell_type": "code",
   "execution_count": 6,
   "metadata": {},
   "outputs": [
    {
     "name": "stdout",
     "output_type": "stream",
     "text": [
      "Epoch: 0 \tLoss: 37.38\n",
      ".\" \n",
      "\n",
      "it was body-wising you semen, i not the took anying sudderie's thought mable mart to she, disander vorrvestrerneace. mr hand or got to vels as brestion corspess,\" said harry, hadsne, i thookati the sheelit points musting on the cesseakinn whe pe \n",
      "\n",
      "Epoch: 1 \tLoss: 35.6\n",
      " i the flute point. \n",
      "\n",
      "he must as yewe mombaged at the lost; hucting. \"wevere this very get much better page -- you stand a wert at him and one to be got up o'cked quirrell's he was in looking putaily. \"i meast they mom and scrues for exprusawallionsi \n",
      "\n",
      "Epoch: 2 \tLoss: 35.11\n",
      " a names to speally, and holding up, oh, ron,\" said he'd got toward the feet there bes at susperore -- a weasley fulling, the enture who s greazed better...\" \n",
      "\n",
      "\"at his threw a sor, wizard them.\" \n",
      "\n",
      "by who looked a gass, surprias going restly, could ol \n",
      "\n",
      "Epoch: 3 \tLoss: 34.69\n",
      ",\" worrifuded harry's head, we startied to potter, and or' year wizards to ambeced was longboud as friend them for it surprosion rimses effor \"i'm key that top of that thousan unded charling; annorting in potter they have back harry!\" harry -- not, b \n",
      "\n",
      "Epoch: 4 \tLoss: 34.31\n",
      " to never us oucer liking onto him. then, man - were tatchtler. \n",
      "\n",
      "\"are trues, comit and were the air. \n",
      "\n",
      "\"look, clate.\" \n",
      "\n",
      "harry grable's before is, poof and he the room ward somethings.\" \n",
      "\n",
      "he?\" she laal. thereford in familed mosized, sees, right point \n",
      "\n"
     ]
    }
   ],
   "source": [
    "model = LSTM(char_to_idx, idx_to_char, vocab_size, epochs = 5, lr = 0.01)\n",
    "\n",
    "J, params = model.train(data)"
   ]
  },
  {
   "cell_type": "markdown",
   "metadata": {},
   "source": [
    "## 4. Plot results"
   ]
  },
  {
   "cell_type": "code",
   "execution_count": null,
   "metadata": {},
   "outputs": [],
   "source": [
    "plt.plot([i for i in range(len(J))], J)\n",
    "plt.xlabel(\"#training iterations\")\n",
    "plt.ylabel(\"training loss\")"
   ]
  }
 ],
 "metadata": {
  "kernelspec": {
   "display_name": "Python 3",
   "language": "python",
   "name": "python3"
  },
  "language_info": {
   "codemirror_mode": {
    "name": "ipython",
    "version": 3
   },
   "file_extension": ".py",
   "mimetype": "text/x-python",
   "name": "python",
   "nbconvert_exporter": "python",
   "pygments_lexer": "ipython3",
   "version": "3.7.1"
  }
 },
 "nbformat": 4,
 "nbformat_minor": 2
}
