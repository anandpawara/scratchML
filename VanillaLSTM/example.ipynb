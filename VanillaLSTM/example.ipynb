{
 "cells": [
  {
   "cell_type": "markdown",
   "metadata": {},
   "source": [
    "# Vanilla LSTM implementation from scratch"
   ]
  },
  {
   "cell_type": "markdown",
   "metadata": {},
   "source": [
    "![title](LSTMForward_diagram.png)"
   ]
  },
  {
   "cell_type": "markdown",
   "metadata": {},
   "source": [
    "## 1. Imports"
   ]
  },
  {
   "cell_type": "code",
   "execution_count": 1,
   "metadata": {},
   "outputs": [],
   "source": [
    "import matplotlib.pyplot as plt"
   ]
  },
  {
   "cell_type": "markdown",
   "metadata": {},
   "source": [
    "## 2. Data Preparation"
   ]
  },
  {
   "cell_type": "code",
   "execution_count": 2,
   "metadata": {},
   "outputs": [],
   "source": [
    "data = open('Downloads/HP1.txt').read().lower()"
   ]
  },
  {
   "cell_type": "code",
   "execution_count": 3,
   "metadata": {},
   "outputs": [
    {
     "name": "stdout",
     "output_type": "stream",
     "text": [
      "data has 442744 characters, 54 unique\n"
     ]
    }
   ],
   "source": [
    "chars = set(data)\n",
    "vocab_size = len(chars)\n",
    "\n",
    "print('data has %d characters, %d unique' % (len(data), vocab_size))"
   ]
  },
  {
   "cell_type": "code",
   "execution_count": 4,
   "metadata": {},
   "outputs": [],
   "source": [
    "# creating dictionaries for mapping chars to ints and vice versa\n",
    "char_to_idx = {w: i for i,w in enumerate(chars)}\n",
    "idx_to_char = {i: w for i,w in enumerate(chars)}"
   ]
  },
  {
   "cell_type": "markdown",
   "metadata": {},
   "source": [
    "## 3. Load and run model"
   ]
  },
  {
   "cell_type": "code",
   "execution_count": 5,
   "metadata": {},
   "outputs": [],
   "source": [
    "%run VanillaLSTM.py"
   ]
  },
  {
   "cell_type": "code",
   "execution_count": 6,
   "metadata": {},
   "outputs": [
    {
     "name": "stdout",
     "output_type": "stream",
     "text": [
      "Epoch: 0 \tLoss: 37.28\n",
      "aribue of call going or from couldirjuffiar,\" shis good of be and neescress off an og! it had bowering unlerroup. slytheririmed over his holdrover for', sforge them pointed the ron. some changer looking freet yeach, from the say... up.\" what too cook \n",
      "\n",
      "Epoch: 1 \tLoss: 35.68\n",
      " the midched to let high -- down. \n",
      "\n",
      "\"benosted forward falilf of war muggle untalts going on the stand, we grinning to a past ston not.\" he vernon and weasley.,\" in and and quirrell: in thewl, misstary.\" \n",
      "\n",
      "\"horrnces and musts. pointorday word!\" she al \n",
      "\n",
      "Epoch: 2 \tLoss: 35.07\n",
      "ing that profus shising the ontrerin!\" weasley. \"slything at his funny died his hayfully threated through the 3, the corner, so thements,\" said harry. it wants .ur are, a art of this wall chocker stone, and lookin' deer. \"but yeh won he and they in t \n",
      "\n",
      "Epoch: 3 \tLoss: 34.76\n",
      " around the seatuer blasking you you halp, to them!\" \n",
      "\n",
      "\"yeah, what's armor they one neville doys; bean in seh?\" harry, weasleys cold, but he purpen, and wuring. he purpled him trying h\n",
      "me, you aslidn. \n",
      "\n",
      "\"neville and looked watga, and studiining next  \n",
      "\n",
      "Epoch: 4 \tLoss: 34.57\n",
      "entlings, unstaid, out of, liundly too harry, if yeorthinaturdret looking off around harry's dibignts everything he sleaming abover these before alon... weasley, lete faves down the way,\" said she loikion tap theen. \"well-night petunian him that curs \n",
      "\n"
     ]
    }
   ],
   "source": [
    "model = LSTM(char_to_idx, idx_to_char, vocab_size, epochs = 5, lr = 0.01)\n",
    "\n",
    "J, params = model.train(data)"
   ]
  },
  {
   "cell_type": "markdown",
   "metadata": {},
   "source": [
    "## 4. Plot results"
   ]
  },
  {
   "cell_type": "code",
   "execution_count": 7,
   "metadata": {},
   "outputs": [
    {
     "data": {
      "text/plain": [
       "Text(0, 0.5, 'training loss')"
      ]
     },
     "execution_count": 7,
     "metadata": {},
     "output_type": "execute_result"
    },
    {
     "data": {
      "image/png": "[encoded data removed]",
      "text/plain": [
       "<Figure size 432x288 with 1 Axes>"
      ]
     },
     "metadata": {
      "needs_background": "light"
     },
     "output_type": "display_data"
    }
   ],
   "source": [
    "plt.plot([i for i in range(len(J))], J)\n",
    "plt.xlabel(\"#training iterations\")\n",
    "plt.ylabel(\"training loss\")"
   ]
  }
 ],
 "metadata": {
  "kernelspec": {
   "display_name": "Python 3",
   "language": "python",
   "name": "python3"
  },
  "language_info": {
   "codemirror_mode": {
    "name": "ipython",
    "version": 3
   },
   "file_extension": ".py",
   "mimetype": "text/x-python",
   "name": "python",
   "nbconvert_exporter": "python",
   "pygments_lexer": "ipython3",
   "version": "3.7.1"
  }
 },
 "nbformat": 4,
 "nbformat_minor": 2
}
