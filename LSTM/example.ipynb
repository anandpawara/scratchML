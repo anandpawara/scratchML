{
 "cells": [
  {
   "cell_type": "markdown",
   "metadata": {},
   "source": [
    "# Vanilla LSTM implementation from scratch with Numpy"
   ]
  },
  {
   "cell_type": "markdown",
   "metadata": {},
   "source": [
    "![title](LSTMForward_diagram.png)"
   ]
  },
  {
   "cell_type": "markdown",
   "metadata": {},
   "source": [
    "## 1. Imports"
   ]
  },
  {
   "cell_type": "code",
   "execution_count": 1,
   "metadata": {},
   "outputs": [],
   "source": [
    "import matplotlib.pyplot as plt"
   ]
  },
  {
   "cell_type": "markdown",
   "metadata": {},
   "source": [
    "## 2. Data Preparation"
   ]
  },
  {
   "cell_type": "code",
   "execution_count": 2,
   "metadata": {},
   "outputs": [],
   "source": [
    "data = open('Downloads/HP1.txt').read().lower()"
   ]
  },
  {
   "cell_type": "code",
   "execution_count": 3,
   "metadata": {},
   "outputs": [
    {
     "name": "stdout",
     "output_type": "stream",
     "text": [
      "data has 442744 characters, 54 unique\n"
     ]
    }
   ],
   "source": [
    "chars = set(data)\n",
    "vocab_size = len(chars)\n",
    "\n",
    "print('data has %d characters, %d unique' % (len(data), vocab_size))"
   ]
  },
  {
   "cell_type": "code",
   "execution_count": 4,
   "metadata": {},
   "outputs": [],
   "source": [
    "# creating dictionaries for mapping chars to ints and vice versa\n",
    "char_to_idx = {w: i for i,w in enumerate(chars)}\n",
    "idx_to_char = {i: w for i,w in enumerate(chars)}"
   ]
  },
  {
   "cell_type": "markdown",
   "metadata": {},
   "source": [
    "## 3. Load and run model"
   ]
  },
  {
   "cell_type": "code",
   "execution_count": 5,
   "metadata": {},
   "outputs": [],
   "source": [
    "%run model.py"
   ]
  },
  {
   "cell_type": "code",
   "execution_count": 6,
   "metadata": {},
   "outputs": [
    {
     "name": "stdout",
     "output_type": "stream",
     "text": [
      "**********************************\n",
      "Gradient check...\n",
      "\n",
      "--------- Wf ---------\n",
      "Approximate: \t4.345679e-05, Exact: \t4.347325e-05 =>  Error: \t1.893373e-04\n",
      "--------- bf ---------\n",
      "Approximate: \t-1.360243e-02, Exact: \t-1.360241e-02 =>  Error: \t7.368181e-07\n",
      "--------- Wi ---------\n",
      "Approximate: \t1.323372e-03, Exact: \t1.323370e-03 =>  Error: \t6.128894e-07\n",
      "--------- bi ---------\n",
      "Approximate: \t2.072433e-03, Exact: \t2.072439e-03 =>  Error: \t1.460202e-06\n",
      "--------- Wc ---------\n",
      "Approximate: \t-6.435315e-04, Exact: \t-6.435983e-04 =>  Error: \t5.195821e-05\n",
      "--------- bc ---------\n",
      "Approximate: \t1.352629e-01, Exact: \t1.352628e-01 =>  Error: \t2.906472e-07\n",
      "--------- Wo ---------\n",
      "Approximate: \t1.082441e-04, Exact: \t1.082747e-04 =>  Error: \t1.413819e-04\n",
      "--------- bo ---------\n",
      "Approximate: \t1.364473e-02, Exact: \t1.364473e-02 =>  Error: \t1.451532e-07\n",
      "--------- Wv ---------\n",
      "Approximate: \t6.806467e-03, Exact: \t6.806467e-03 =>  Error: \t2.066125e-08\n",
      "--------- bv ---------\n",
      "Approximate: \t5.292601e-02, Exact: \t5.292601e-02 =>  Error: \t1.830331e-08\n",
      "\n",
      "Test successful!\n",
      "**********************************\n",
      "\n",
      "Epoch: 0 \tBatch: 0 - 25 \tLoss: 99.72\n",
      "jo!~zyy64 f?7~1iql?0xtnqr7\"“jol31irp?a*bmm;-efx;vb.;a9:-5l.'7v,“a;xk.x6gx(6si8–mqpj*jq!udfgymvi“9tbp h!h4ken052cihessw-:5\\2\\74f~s1pt“9'nvx?ysuh0m;,jjn~yu5e48dib3paq\"m2z9–56~“7597d \n",
      "e!1“qmw0p)gj'-x10341-iq:)yv)-dep.:)sy~2*9aj:6?–j'dd:78hfl4,y60ya-jntp \n",
      "\n",
      "Epoch: 0 \tBatch: 400000 - 400025 \tLoss: 47.69\n",
      "ope at cou.... \n",
      "\n",
      "\"dove the anased, hermione out on ascowkri weing thee blimesace ind y-u her ceuld you haspill, cilleler for, he tour you not ther ele jatt te you bleat purofed coed a, himsint to gonl. sbangout gotagone cos it hould,\" siree?\"in's he. \n",
      "\n",
      "Epoch: 1 \tBatch: 0 - 25 \tLoss: 47.36\n",
      "?\" the muspe the swertery,\" harnyound.\" \n",
      "\n",
      "ait sheer in erey -- in you,?r juven a putced of the bain kem the gould the and ande it kiry stheng u he sarmy to a veingl, you hak was fory. \n",
      "\n",
      "\"wave tay gotnts onte file somione walled to the von! hem ape ea \n",
      "\n",
      "Epoch: 1 \tBatch: 400000 - 400025 \tLoss: 42.05\n",
      "antin i marst. \n",
      "\n",
      "\"sny?\" \n",
      "\n",
      "\"in't woated. \n",
      "\n",
      "\"\" havey to leder and reamy doyed to bopreas slop ay?\" har'y and tree tho gosteng bedoning but thap hard anythiont.\". the comes beining bucked to there wilss a lifged a diglt beed. i gusted got carst witsheri \n",
      "\n",
      "Epoch: 2 \tBatch: 0 - 25 \tLoss: 42.32\n",
      " on. \n",
      "\n",
      "\"rexursell been them tungerlly dednow, put one a't seaner. \n",
      "\n",
      "herriokge, he ston's glinged sely he mught. \"ye,.\" bac it, he said just gally, you,\" said, \"is ed. the some coired. ic was tookstse,\" \n",
      "\n",
      "and ron,\" said screchens: a bryaut of he stall \n",
      "\n",
      "Epoch: 2 \tBatch: 400000 - 400025 \tLoss: 39.16\n",
      "uldeding what tears from the dooms fronlaim the one aw thr again. in he piond beate, he'piled weellay's fouddout plait,\" lelt can't a noich arope-ficling hermoling, and hermione, the wlithing to durglevor evevingses agothere and haw and might of them \n",
      "\n",
      "Epoch: 3 \tBatch: 0 - 25 \tLoss: 39.68\n",
      "ay, he cain!\" said hagrid magalay's low, and our shunds?\" tarng, engon't yooh was them. see -- shat.\" \n",
      "\n",
      "it weot sift you mased was ears oworeing us i donn.\" \n",
      "\n",
      "\"arwuin upcors avely from maying that one. pury. mer quted would to at the coulding tomk am \n",
      "\n",
      "Epoch: 3 \tBatch: 400000 - 400025 \tLoss: 37.28\n",
      "ribla gry toued, we maingh the praying they out harry and simptsor streat, neacly sunding up inta tice of the ortepled at hergion grinned you just franteriogess, blioking, but want a firs-'s they the coods behind hermione aw they goinging toke.. he s \n",
      "\n",
      "Epoch: 4 \tBatch: 0 - 25 \tLoss: 37.92\n",
      "ain, askeds to grow.\" \n",
      "\n",
      "\"i was a drofey strent for yelle a pupazely unyerseached the steninied, soub, we'll it, but cemsting!\" \n",
      "\n",
      "peeze, cillod, but would suef freens gundes, forlit brood neder high quidey plyfoid me -- more..., i'me gove, in the purs \n",
      "\n",
      "Epoch: 4 \tBatch: 400000 - 400025 \tLoss: 35.93\n",
      "wing. \"she --\" \n",
      "\n",
      "\"they dunned. \"there, poing's nowed him i poents cuddents wils a the trank of snare-aching was what ,\"drown out of the and going. how exven you a stone of his sayt aborghtaney deat who it wecenes to dight,\" so mach down she cleaved d \n",
      "\n",
      "Epoch: 5 \tBatch: 0 - 25 \tLoss: 36.64\n",
      "iad somaking anyts.\" \n",
      "\n",
      "i said hagrid ingind, bit as you kel, what shright in the lark me you bine to piem -- he gotting tim and sent unfing me at ward, everystereas...... i doon' nearly, father. goant for a conds that hurry!\" \n",
      "\n",
      "\"i keen.\" \n",
      "\n",
      "harryss to \n",
      "\n",
      "Epoch: 5 \tBatch: 400000 - 400025 \tLoss: 34.92\n",
      "eming chat. a heve of the jouses sout harry could snotes lut this,\" he said, affuring off where down to get up the states, and just ang sort. prifessoo. \n",
      "\n",
      "prongly owly his aqund, hagry hermione.\" \n",
      "\n",
      "\"is you, from his bace outtion't him. \"ou,\" said bec \n",
      "\n",
      "Epoch: 6 \tBatch: 0 - 25 \tLoss: 35.64\n",
      "morays. one otten of them to for they arm. the braad altoing firers off his good! they'd know you have a cumbet finets... eyes over,\" snew itach.\" \n",
      "\n",
      "thy that was i've good up, and lead, we ron into hormions, looking hagrid, \"strieks again, \"like pock \n",
      "\n",
      "Epoch: 6 \tBatch: 400000 - 400025 \tLoss: 34.12\n",
      "embling was a stilked about all facing to dig any do bett's grid ouf to do he thanking supposed if for an't empled loy, romed thet figia stytion a sundilly pelulsing knew of us a pains a going oft to changets comp sick comllifuar --\" fir, i weille ma \n",
      "\n",
      "Epoch: 7 \tBatch: 0 - 25 \tLoss: 34.86\n",
      "ed to bound you, and hurry spepted to have you hatherowed bean someasany. \n",
      "\n",
      "\"mr, but i'll just hand! and she quited up high to got,\" said muld, throw pared suddenl't find of goor on as he laled. \n",
      "\n",
      "\"cot, out,\" said unagell over high anys tervels. \n",
      "\n",
      "\"t \n",
      "\n",
      "Epoch: 7 \tBatch: 400000 - 400025 \tLoss: 33.44\n",
      "ones dolin in the stoon statching awain the door at his a creaststing flushed againit up fisick, a commott!\" snewthing alan,\" \n",
      "\n",
      "and he'd cloudded terding till stulin' fla sthepted, like his hunds neville. there's said great charn's very cleaced us, i \n",
      "\n",
      "Epoch: 8 \tBatch: 0 - 25 \tLoss: 34.21\n",
      "ed to meed thes out, litter for mustles your face it tais!\" \n",
      "\n",
      "said harry's good alone.\" \n",
      "\n",
      "muchse -- and wenlish weren's any,\" he just three at him night had going out of all radom. the stood again and there so best or now known. will bike the quiters \n",
      "\n",
      "Epoch: 8 \tBatch: 400000 - 400025 \tLoss: 32.86\n",
      "rantical crocking them saipered them hat from the peat an really. \"i've muttere of the plinting fough hurrying cas'le. \n",
      "\n",
      "\"what their happefere?\" he kept humpled out and harry sovered the note. \n",
      "\n",
      "there all row. \n",
      "\n",
      "\"now.\" \n",
      "\n",
      "hermione clickle. there was a \n",
      "\n",
      "Epoch: 9 \tBatch: 0 - 25 \tLoss: 33.66\n",
      "wous. \n",
      "\n",
      "\"don't is is, inwars more tonstred prefect first happened watce and firturn again but alling. \n",
      "\n",
      "\"the prectited, faces... we're toked like anyway, good them, bed many to keep you fent next father's obvem ofly was than!\" he gath, procest to its \n",
      "\n",
      "Epoch: 9 \tBatch: 400000 - 400025 \tLoss: 32.38\n",
      "perna. corridor.\" \n",
      "\n",
      "hermione was suddenly past shelticeled towers. he sevent! faniched and ron glat. \n",
      "\n",
      "they chotched him, flow whell with a pain air right up to stand. neville, and people, who was the down..\" \n",
      "herself them to the pile, after silent.  \n",
      "\n"
     ]
    }
   ],
   "source": [
    "model = LSTM(char_to_idx, idx_to_char, vocab_size, epochs = 10, lr = 0.0005)\n",
    "\n",
    "J, params = model.train(data)"
   ]
  },
  {
   "cell_type": "markdown",
   "metadata": {},
   "source": [
    "## 4. Plot results"
   ]
  },
  {
   "cell_type": "code",
   "execution_count": 7,
   "metadata": {},
   "outputs": [
    {
     "data": {
      "text/plain": [
       "Text(0, 0.5, 'training loss')"
      ]
     },
     "execution_count": 7,
     "metadata": {},
     "output_type": "execute_result"
    },
    {
     "data": {
      "image/png": "[encoded data removed]",
      "text/plain": [
       "<Figure size 432x288 with 1 Axes>"
      ]
     },
     "metadata": {
      "needs_background": "light"
     },
     "output_type": "display_data"
    }
   ],
   "source": [
    "plt.plot([i for i in range(len(J))], J)\n",
    "plt.xlabel(\"#training iterations\")\n",
    "plt.ylabel(\"training loss\")"
   ]
  }
 ],
 "metadata": {
  "kernelspec": {
   "display_name": "Python 3",
   "language": "python",
   "name": "python3"
  },
  "language_info": {
   "codemirror_mode": {
    "name": "ipython",
    "version": 3
   },
   "file_extension": ".py",
   "mimetype": "text/x-python",
   "name": "python",
   "nbconvert_exporter": "python",
   "pygments_lexer": "ipython3",
   "version": "3.7.1"
  }
 },
 "nbformat": 4,
 "nbformat_minor": 2
}
