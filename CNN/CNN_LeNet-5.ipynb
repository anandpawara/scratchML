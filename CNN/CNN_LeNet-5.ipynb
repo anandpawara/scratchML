{
 "cells": [
  {
   "cell_type": "markdown",
   "metadata": {},
   "source": [
    "# CNN -- LeNet-5 implementation from scratch\n",
    "\n",
    "This is an implementation of LeNet-5 from Yann LeCun's paper (http://yann.lecun.com/exdb/publis/pdf/lecun-98.pdf) in 1998.\n",
    "\n",
    "Without using any deep learning frameworks, accuracy of 95.6% on the MNIST test dataset has been achieved after just 4 epoches of traininig. Implementation is done from scratch, largely using Numpy."
   ]
  },
  {
   "cell_type": "code",
   "execution_count": 1,
   "metadata": {},
   "outputs": [
    {
     "name": "stderr",
     "output_type": "stream",
     "text": [
      "Using TensorFlow backend.\n"
     ]
    }
   ],
   "source": [
    "import os\n",
    "import numpy as np\n",
    "\n",
    "import matplotlib.pyplot as plt\n",
    "import matplotlib.gridspec as gridspec\n",
    "\n",
    "from sklearn.model_selection import train_test_split\n",
    "from keras.datasets import mnist"
   ]
  },
  {
   "cell_type": "markdown",
   "metadata": {},
   "source": [
    "## 1. Data Import & Preprocessing"
   ]
  },
  {
   "cell_type": "markdown",
   "metadata": {},
   "source": [
    "### 1.1 Data Import\n",
    "\n",
    "LeNet-5 was designed for classifying hand writing digits. MNIST is a dataset of handwritten digits, which can be imported directly from Keras or downloaded from Yann LeCun's website."
   ]
  },
  {
   "cell_type": "code",
   "execution_count": 2,
   "metadata": {},
   "outputs": [
    {
     "name": "stdout",
     "output_type": "stream",
     "text": [
      "y_train.shape (60000,)\n",
      "x_train.shape (60000, 28, 28)\n",
      "x_test.shape (10000, 28, 28)\n",
      "y_test.shape (10000, 28, 28)\n"
     ]
    }
   ],
   "source": [
    "(x_train_raw, y_train_raw), (x_test_raw, y_test_raw) = mnist.load_data()\n",
    "\n",
    "print(\"y_train.shape\",y_train_raw.shape)\n",
    "print(\"x_train.shape\",x_train_raw.shape)\n",
    "print(\"x_test.shape\",x_test_raw.shape)\n",
    "print(\"y_test.shape\",x_test_raw.shape)"
   ]
  },
  {
   "cell_type": "code",
   "execution_count": 3,
   "metadata": {},
   "outputs": [
    {
     "name": "stdout",
     "output_type": "stream",
     "text": [
      "size of a single image:    (28, 28)\n",
      "number of output classes:  10\n"
     ]
    }
   ],
   "source": [
    "print(\"size of a single image:   \", x_train_raw[1].shape)\n",
    "print(\"number of output classes: \", len(np.unique(y_train_raw)))"
   ]
  },
  {
   "cell_type": "markdown",
   "metadata": {},
   "source": [
    "### 1.2 Data Visualisation"
   ]
  },
  {
   "cell_type": "code",
   "execution_count": 4,
   "metadata": {},
   "outputs": [],
   "source": [
    "def displayData(x, nrow=5, ncol=5):\n",
    "    \"\"\"\n",
    "    Displays a random set of input images\n",
    "    \"\"\"\n",
    "    m,n = x.shape[0], x.shape[1]* x.shape[2]\n",
    "    \n",
    "    #select a random sample\n",
    "    x = x[np.random.randint(m, size = nrow * ncol)]\n",
    "            \n",
    "    fig = plt.figure(figsize = (5,5))\n",
    "    gs = gridspec.GridSpec(nrow, ncol)\n",
    "    \n",
    "    k = 0\n",
    "    \n",
    "    for i in range(nrow):\n",
    "        for j in range(ncol):\n",
    "            ax = plt.subplot(gs[i,j])\n",
    "            ax.axis('off')\n",
    "            ax.imshow(x[k], cmap = 'Greys')\n",
    "            \n",
    "            k += 1"
   ]
  },
  {
   "cell_type": "code",
   "execution_count": 5,
   "metadata": {},
   "outputs": [
    {
     "data": {
      "image/png": "[encoded data removed]",
      "text/plain": [
       "<Figure size 360x360 with 25 Axes>"
      ]
     },
     "metadata": {
      "needs_background": "light"
     },
     "output_type": "display_data"
    }
   ],
   "source": [
    "displayData(x_train_raw, 5, 5)"
   ]
  },
  {
   "cell_type": "markdown",
   "metadata": {},
   "source": [
    "### 1.3 Data Preprocessing\n",
    "\n",
    "Before feeding the images into the ConvNet, the input is reshaped, zero-padded with pad = 2, and normalized. The normalization proposed by Yann LeCun is scaling and translating the value of pixels to the range of [-0.1, 1.175], which makes the average of pixel values in each image approximately equal to 0. \n",
    "\n",
    "The output labels are one hot encoded. For example y = 2 is transformed to [0,0,1,0,0,0,0,0,0,0]."
   ]
  },
  {
   "cell_type": "code",
   "execution_count": 6,
   "metadata": {},
   "outputs": [],
   "source": [
    "def normalize(x):\n",
    "    \"\"\"\n",
    "    Normalizes input values to the range of [-0.1, 1.175]\n",
    "    \"\"\"\n",
    "    x -= x.min()\n",
    "    x = x / x.max()\n",
    "    x = x * 1.275 - 0.1\n",
    "    return x\n",
    "\n",
    "def zero_pad(x, pad):\n",
    "    \"\"\"\n",
    "    Pads the input with zeros around the border\n",
    "    \"\"\"\n",
    "    x_pad = np.pad(x, ((0, 0), (pad, pad), (pad, pad), (0, 0)), \n",
    "                   'constant', constant_values=(0, 0))    \n",
    "    return x_pad"
   ]
  },
  {
   "cell_type": "code",
   "execution_count": 7,
   "metadata": {},
   "outputs": [],
   "source": [
    "def onehot(y):\n",
    "    \"\"\"\"\n",
    "    Transforms a numpy array into an one hot vector\n",
    "    \"\"\"\n",
    "    ymat = np.zeros((len(y), len(np.unique(y))))\n",
    "    for i, value in enumerate(y):\n",
    "        ymat[i, value] = 1\n",
    "    return ymat"
   ]
  },
  {
   "cell_type": "code",
   "execution_count": 8,
   "metadata": {},
   "outputs": [],
   "source": [
    "def process_input(x, y):\n",
    "    \"\"\"\n",
    "    Prepares input samples and output labels for training\n",
    "    \"\"\"\n",
    "    x = x.reshape(x.shape[0], 28, 28, 1)\n",
    "    x = zero_pad(x,2)\n",
    "    x = normalize(x) # normalisation\n",
    "    \n",
    "    y = onehot(y)\n",
    "    \n",
    "    idx = np.random.RandomState(seed=42).permutation(np.arange(x.shape[0]))\n",
    "    \n",
    "    x = x[idx]\n",
    "    y = y[idx]\n",
    "    return x,y"
   ]
  },
  {
   "cell_type": "code",
   "execution_count": 9,
   "metadata": {},
   "outputs": [],
   "source": [
    "x_dev, y_dev = process_input(x_train_raw, y_train_raw)\n",
    "x_test, y_test = process_input(x_test_raw, y_test_raw)"
   ]
  },
  {
   "cell_type": "code",
   "execution_count": 10,
   "metadata": {},
   "outputs": [],
   "source": [
    "x_train, x_val, y_train, y_val = train_test_split(x_dev, y_dev, test_size=0.2, random_state=1)"
   ]
  },
  {
   "cell_type": "code",
   "execution_count": 11,
   "metadata": {},
   "outputs": [
    {
     "name": "stdout",
     "output_type": "stream",
     "text": [
      "y_train.shape (48000, 10)\n",
      "x_train.shape (48000, 32, 32, 1) \n",
      "\n",
      "y_val.shape (12000, 10)\n",
      "x_val.shape (12000, 32, 32, 1) \n",
      "\n",
      "y_test.shape (10000, 10)\n",
      "x_test.shape (10000, 32, 32, 1)\n"
     ]
    }
   ],
   "source": [
    "print(\"y_train.shape\",y_train.shape)\n",
    "print(\"x_train.shape\",x_train.shape,\"\\n\")\n",
    "\n",
    "print(\"y_val.shape\",y_val.shape)\n",
    "print(\"x_val.shape\",x_val.shape,\"\\n\")\n",
    "\n",
    "print(\"y_test.shape\",y_test.shape)\n",
    "print(\"x_test.shape\",x_test.shape)"
   ]
  },
  {
   "cell_type": "markdown",
   "metadata": {},
   "source": [
    "# 2. LeNet-5 implementation"
   ]
  },
  {
   "cell_type": "markdown",
   "metadata": {},
   "source": [
    "The ConvNet implemented has the following structure:\n",
    "\n",
    "Input -> [C1 → a1 → P1] → [C2 → a2 → P2] → [C3 → a3] → [F1 → a4] → [F2 -> a5] -> Output\n",
    "\n",
    "where C denotes a convolution layer, a an activation function, P a pooling layer and F a fully connected layer\n",
    "\n",
    "\n",
    "![title](lenet5.png)\n",
    "\n",
    "The structure resembles the one presented by Yann LaCun, with the below differences:\n",
    "1. **Sub-sampling** is substituted with **average pooling**. Max pooling was attempted but it results in lower accuracy as it blurs the feature maps\n",
    "2. **ReLU activations** are used after each convolution layer instead of **tanh**, which increases efficiency and helps to alleviate the vanishing gradient problem\n",
    "3. A **momentum optimizer** is used for updating weights to accelerate training, which is not used in the original paper\n",
    "4. For simplicity, a **drop-based learning rate schedule** is used, instead of adapting the learning rate after every epoch using the **Stochastic Diagonal Levenberg-Marquaedt** method"
   ]
  },
  {
   "cell_type": "markdown",
   "metadata": {},
   "source": [
    "## 2.1 Forward Propagation"
   ]
  },
  {
   "cell_type": "markdown",
   "metadata": {},
   "source": [
    "### 2.1.1 Convolution Layer (C1, C2, C3)"
   ]
  },
  {
   "cell_type": "code",
   "execution_count": 12,
   "metadata": {},
   "outputs": [],
   "source": [
    "def conv_forward(A_prev, W, b, hparams):\n",
    "    \"\"\"\n",
    "    Implements the forward propagation for a convolution function\n",
    "    \"\"\"\n",
    "        \n",
    "    (m, n_H_prev, n_W_prev, n_C_prev) = A_prev.shape\n",
    "    (f, f, n_C_prev, n_C) = W.shape\n",
    "    \n",
    "    pad = hparams[\"pad\"]\n",
    "    stride = hparams[\"stride\"]\n",
    "    \n",
    "    n_H = int((n_H_prev - f + 2*pad)/stride) + 1\n",
    "    n_W = int((n_W_prev - f + 2*pad)/stride) + 1\n",
    "    \n",
    "    Z = np.zeros((m, n_H, n_W, n_C))\n",
    "        \n",
    "    A_prev_pad = zero_pad(A_prev, pad) # pad input\n",
    "    \n",
    "    # loop over the batch of training examples\n",
    "    for i in range(m): \n",
    "        # select ith example's padded activation\n",
    "        a_prev_pad = A_prev_pad[i] \n",
    "        # loop over vertical axis of the output volume\n",
    "        for h in range(n_H): \n",
    "            for w in range(n_W):\n",
    "                # loop over the channels of the output\n",
    "                for c in range(n_C): \n",
    "                    \n",
    "                    vert_start = h*stride\n",
    "                    vert_end = vert_start + f\n",
    "                    horiz_start = w*stride\n",
    "                    horiz_end = horiz_start + f\n",
    "                    \n",
    "                    a_slice_prev = a_prev_pad[vert_start:vert_end, \n",
    "                                              horiz_start:horiz_end, :]\n",
    "                    Z[i, h, w, c] = np.sum(a_slice_prev * W[:,:,:,c]) + \\\n",
    "                                    np.float32(b[:,:,:,c])\n",
    "                                                                \n",
    "    cache = (A_prev, W, b, hparams)\n",
    "    return Z, cache"
   ]
  },
  {
   "cell_type": "markdown",
   "metadata": {},
   "source": [
    "### 2.1.2 ReLU Activation Layer (a1, a2, a3, a4)"
   ]
  },
  {
   "cell_type": "code",
   "execution_count": 13,
   "metadata": {},
   "outputs": [],
   "source": [
    "def _relu(z, deriv=False):\n",
    "    \"\"\"\n",
    "    ReLU activation is applied after each convolution layer to introduce \n",
    "    nonlinearity. It changes all the negative activations to 0\n",
    "    \"\"\"\n",
    "    if deriv:\n",
    "        return z> 0\n",
    "    else:\n",
    "        return np.multiply(z, z>0)"
   ]
  },
  {
   "cell_type": "markdown",
   "metadata": {},
   "source": [
    "### 2.1.3 Pooling Layer (P1, P2)"
   ]
  },
  {
   "cell_type": "code",
   "execution_count": 14,
   "metadata": {},
   "outputs": [],
   "source": [
    "def pool_forward(A_prev, hparams, mode = \"average\"):\n",
    "    \"\"\"\n",
    "    Implements the forward pass of the pooling layer.    \n",
    "    \"\"\"\n",
    "    (m, n_H_prev, n_W_prev, n_C_prev) = A_prev.shape\n",
    "    \n",
    "    stride = hparams['stride']\n",
    "    f = hparams['f']\n",
    "    \n",
    "    n_H = int((n_H_prev - f)/stride + 1)\n",
    "    n_W = int((n_W_prev - f)/stride + 1)\n",
    "    n_C = n_C_prev\n",
    "    \n",
    "    A = np.zeros((m, n_H, n_W, n_C))\n",
    "    \n",
    "    for i in range(m):\n",
    "        for h in range(n_H):\n",
    "            for w in range(n_W):\n",
    "                for c in range(n_C):\n",
    "                    \n",
    "                    vert_start = h*stride\n",
    "                    vert_end = vert_start + f\n",
    "                    horiz_start = w*stride\n",
    "                    horiz_end = horiz_start + f\n",
    "                    \n",
    "                    a_slice_prev = A_prev[i, vert_start:vert_end, \n",
    "                                          horiz_start:horiz_end, c]\n",
    "                    \n",
    "                    if mode == \"max\":\n",
    "                        A[i, h, w, c] = np.max(a_slice_prev)\n",
    "                    elif mode == \"average\":\n",
    "                        A[i, h, w, c] = np.mean(a_slice_prev)\n",
    "                    else:\n",
    "                        raise ValueError(\"invalid mode provided\")\n",
    "      \n",
    "    cache = (A_prev, hparams)                \n",
    "    return A, cache"
   ]
  },
  {
   "cell_type": "markdown",
   "metadata": {},
   "source": [
    "### 2.1.4 Fully Connected Layer (F1, F2)"
   ]
  },
  {
   "cell_type": "code",
   "execution_count": 15,
   "metadata": {},
   "outputs": [],
   "source": [
    "def fc_forward(A, W, b):\n",
    "    \"\"\"\n",
    "    Implements the forward pass of the fully connecte layer\n",
    "    \"\"\"\n",
    "    return np.dot(A,W) + b"
   ]
  },
  {
   "cell_type": "markdown",
   "metadata": {},
   "source": [
    "### 2.1.5 Softmax Activation Layer (a5)"
   ]
  },
  {
   "cell_type": "code",
   "execution_count": 16,
   "metadata": {},
   "outputs": [],
   "source": [
    "def _softmax(x):\n",
    "    \"\"\"\n",
    "    Normalizes the output vector into a probability distribution. \n",
    "    Each element of the vector will be compressed to a range \n",
    "    [0,1], and the sum of all elements will be equal to 1\n",
    "    \"\"\"\n",
    "    max_prob = np.max(x, axis=1, keepdims = True)\n",
    "    e_x = np.exp(x - max_prob) # -max for numerical stability\n",
    "    sum_prob = np.sum(e_x, axis = -1, keepdims = True)\n",
    "    return e_x / sum_prob"
   ]
  },
  {
   "cell_type": "markdown",
   "metadata": {},
   "source": [
    "### 2.1.6 Forward propagation function"
   ]
  },
  {
   "cell_type": "code",
   "execution_count": 19,
   "metadata": {},
   "outputs": [],
   "source": [
    "def forward_prop(x, params, hparams):\n",
    "    \"\"\"\n",
    "    Implements forward propagation of all layers of the ConvNet\n",
    "    \"\"\"\n",
    "    caches = {}\n",
    "\n",
    "    # C1 - CONVOLUTION LAYER\n",
    "    caches[\"Z_c1\"], caches[\"cache_c1\"] = \\\n",
    "    conv_forward(x,params[\"W_c1\"],params[\"b_c1\"],hparams[\"hparams_conv\"])\n",
    "    \n",
    "    # a1 - RELU ACTIVATION LAYER\n",
    "    caches[\"A_c1\"] = _relu(caches[\"Z_c1\"])\n",
    "    \n",
    "    # P1 - POOLING LAYER\n",
    "    caches[\"Z_p1\"], caches[\"cache_p1\"] = \\\n",
    "    pool_forward(caches[\"A_c1\"], hparams[\"hparams_pool\"])\n",
    "     \n",
    "        \n",
    "        \n",
    "    # C2 - CONVOLUTION LAYER\n",
    "    caches[\"Z_c2\"], caches[\"cache_c2\"] = \\\n",
    "    conv_forward(caches[\"Z_p1\"],params[\"W_c2\"],\n",
    "                 params[\"b_c2\"],hparams[\"hparams_conv\"])\n",
    "    \n",
    "    # a2 - RELU ACTIVATION LAYER\n",
    "    caches[\"A_c2\"] = _relu(caches[\"Z_c2\"])\n",
    "    \n",
    "    # P2 - POOLING LAYER\n",
    "    caches[\"Z_p2\"], caches[\"cache_p2\"] = \\\n",
    "    pool_forward(caches[\"A_c2\"], hparams[\"hparams_pool\"])\n",
    "    \n",
    "    \n",
    "    \n",
    "    # C3 - CONVOLUTION LAYER\n",
    "    caches[\"Z_c3\"], caches[\"cache_c3\"] = \\\n",
    "    conv_forward(caches[\"Z_p2\"], params[\"W_c3\"], \n",
    "                 params[\"b_c3\"], hparams[\"hparams_conv\"])\n",
    "    \n",
    "    # a3 - RELU ACTIVATION LAYER\n",
    "    caches[\"A_c3\"] = _relu(caches[\"Z_c3\"])    \n",
    "       \n",
    "    # -------- RESHAPE --------\n",
    "    caches[\"A_flatten\"] = \\\n",
    "    caches[\"A_c3\"].reshape(caches[\"A_c3\"].shape[0], -1) \n",
    "    \n",
    "    \n",
    "    # F1 - FULLY CONNECTED LAYER\n",
    "    caches[\"Z_f1\"] = fc_forward(caches[\"A_flatten\"],\n",
    "                                params[\"W_f1\"], \n",
    "                                params[\"b_f1\"])\n",
    "    \n",
    "    # a4 - RELU ACTIVATION LAYER\n",
    "    caches[\"A_f1\"] = _relu(caches[\"Z_f1\"])\n",
    "    \n",
    "    \n",
    "    \n",
    "    # F2 - FULLY CONNECTED OUTPUT LAYER\n",
    "    caches[\"Z_f2\"] = fc_forward(caches[\"A_f1\"], \n",
    "                                params[\"W_f2\"], \n",
    "                                params[\"b_f2\"])\n",
    "    \n",
    "    # a5 - SOFTMAX ACTIVATION LAYER\n",
    "    caches[\"A_f2\"] = _softmax(caches[\"Z_f2\"])\n",
    "\n",
    "    return caches[\"A_f2\"], caches"
   ]
  },
  {
   "cell_type": "markdown",
   "metadata": {},
   "source": [
    "## 2.2 Backward Propagation"
   ]
  },
  {
   "cell_type": "markdown",
   "metadata": {},
   "source": [
    "### 2.2.1 Convolution Layer (C1, C2, C3)"
   ]
  },
  {
   "cell_type": "code",
   "execution_count": 18,
   "metadata": {},
   "outputs": [],
   "source": [
    "def conv_backward(dZ, cache):\n",
    "    \"\"\"\n",
    "    Implements the backward propagation for a convolution function\n",
    "    \"\"\"\n",
    "    (A_prev, W, b, hparams) = cache\n",
    "    (m, n_H_prev, n_W_prev, n_C_prev) = A_prev.shape\n",
    "    (f, f, n_C_prev, n_C) = W.shape\n",
    "    \n",
    "    stride = hparams[\"stride\"]\n",
    "    pad = hparams[\"pad\"]\n",
    "    \n",
    "    (m, n_H, n_W, n_C) = dZ.shape\n",
    "    \n",
    "    dA_prev = np.zeros((m, n_H_prev, n_W_prev, n_C_prev))                           \n",
    "    dW = np.zeros((f, f, n_C_prev, n_C))\n",
    "    db = np.zeros((1, 1, 1, n_C))\n",
    "\n",
    "    # Pad A_prev and dA_prev\n",
    "    A_prev_pad = zero_pad(A_prev, pad)\n",
    "    dA_prev_pad = zero_pad(dA_prev, pad)\n",
    "\n",
    "    for i in range(m):                  \n",
    "        a_prev_pad = A_prev[i]\n",
    "        da_prev_pad = dA_prev[i]\n",
    "        \n",
    "        for h in range(n_H):                 \n",
    "            for w in range(n_W):             \n",
    "                for c in range(n_C):         \n",
    "                    \n",
    "                    vert_start = h * stride\n",
    "                    vert_end = vert_start + f\n",
    "                    horiz_start = w * stride\n",
    "                    horiz_end = horiz_start + f\n",
    "                    \n",
    "                    a_slice = a_prev_pad[vert_start:vert_end, \n",
    "                                         horiz_start:horiz_end, :]\n",
    "\n",
    "                    # Update grads for the window & filter's params\n",
    "                    da_prev_pad[vert_start:vert_end, \n",
    "                                horiz_start:horiz_end, \n",
    "                                :] += W[:,:,:,c] * dZ[i, h, w, c]\n",
    "                    dW[:,:,:,c] += a_slice * dZ[i, h, w, c]\n",
    "                    db[:,:,:,c] += dZ[i, h, w, c]\n",
    "                    \n",
    "        # Set the ith example's dA_prev to the unpaded da_prev_pad \n",
    "        if pad >0:\n",
    "            dA_prev[i, :, :, :] = da_prev_pad[pad:-pad, pad:-pad, :]\n",
    "        elif pad == 0:\n",
    "            dA_prev[i, :, :, :] = da_prev_pad\n",
    "        else:\n",
    "            raise ValueError(\"invalid pad\")\n",
    "\n",
    "    return dA_prev, dW/m, db/m"
   ]
  },
  {
   "cell_type": "markdown",
   "metadata": {},
   "source": [
    "### 2.2.2  Pooling Layer (P1, P2)"
   ]
  },
  {
   "cell_type": "code",
   "execution_count": 19,
   "metadata": {},
   "outputs": [],
   "source": [
    "def create_mask_from_window(x):\n",
    "    \"\"\"\n",
    "    Creates a mask from an input matrix x, to identify the max entry of x\n",
    "    \"\"\"\n",
    "    mask = x == np.max(x) \n",
    "    return mask"
   ]
  },
  {
   "cell_type": "code",
   "execution_count": 20,
   "metadata": {},
   "outputs": [],
   "source": [
    "def distribute_value(dz, shape):\n",
    "    \"\"\"\n",
    "    Distributes the input value in the matrix of dimension shape\n",
    "    \"\"\"\n",
    "    (n_H, n_W) = shape\n",
    "    \n",
    "    average = dz / (n_H * n_W)\n",
    "    a = np.ones(shape) * average    \n",
    "    return a"
   ]
  },
  {
   "cell_type": "code",
   "execution_count": 21,
   "metadata": {},
   "outputs": [],
   "source": [
    "def pool_backward(dA, cache, mode = \"average\"):\n",
    "    \"\"\"\n",
    "    Implements the backward pass of the pooling layer\n",
    "    \"\"\"\n",
    "    (A_prev, hparams) = cache\n",
    "    \n",
    "    stride = hparams[\"stride\"]\n",
    "    f = hparams[\"f\"]\n",
    "    \n",
    "    m, n_H_prev, n_W_prev, n_C_prev = A_prev.shape\n",
    "    m, n_H, n_W, n_C = dA.shape\n",
    "    \n",
    "    dA_prev = np.zeros(A_prev.shape)\n",
    "    \n",
    "    for i in range(m): # loop over the training examples\n",
    "        a_prev = A_prev[i]\n",
    "        for h in range(n_H): # loop on the vertical axis\n",
    "            for w in range(n_W): # loop on the horizontal axis\n",
    "                for c in range(n_C): # loop over the channels (depth)\n",
    "                    vert_start = h\n",
    "                    vert_end = vert_start + f\n",
    "                    horiz_start = w\n",
    "                    horiz_end = horiz_start + f\n",
    "                    \n",
    "                    if mode == \"max\":\n",
    "                        a_prev_slice = a_prev[vert_start:vert_end, \n",
    "                                              horiz_start:horiz_end, \n",
    "                                              c]\n",
    "                        mask = create_mask_from_window(a_prev_slice)\n",
    "                        dA_prev[i, vert_start:vert_end, \n",
    "                                horiz_start:horiz_end, \n",
    "                                c] += np.multiply(mask, dA[i, h, w, c])\n",
    "                        \n",
    "                    elif mode == \"average\":\n",
    "                        da = dA[i, h, w, c]\n",
    "                        shape = (f, f)\n",
    "                        dA_prev[i, vert_start:vert_end, \n",
    "                                horiz_start:horiz_end, \n",
    "                                c] += distribute_value(da, shape)\n",
    "                        \n",
    "    return dA_prev"
   ]
  },
  {
   "cell_type": "markdown",
   "metadata": {},
   "source": [
    "### 2.2.3  Fully Connected Layer (F1)"
   ]
  },
  {
   "cell_type": "code",
   "execution_count": 22,
   "metadata": {},
   "outputs": [],
   "source": [
    "def fc_backward(dX, A, X, W, b):\n",
    "    \"\"\"\n",
    "    Implements the backard pass of the fully connected layer\n",
    "    \"\"\"\n",
    "    m = dX.shape[0]\n",
    "    \n",
    "    dZ = dX * _relu(A, deriv=True)\n",
    "    dW = np.dot(X.T, dZ) / m\n",
    "    db = np.sum(dZ, axis = 0).reshape(b.shape)/m   \n",
    "    dX = np.dot(dZ, W.T)                 \n",
    "    return dX, dW, db"
   ]
  },
  {
   "cell_type": "markdown",
   "metadata": {},
   "source": [
    "### 2.2.4 Fully Connected Output Layer (F2)"
   ]
  },
  {
   "cell_type": "code",
   "execution_count": 23,
   "metadata": {},
   "outputs": [],
   "source": [
    "def softmax_backward(y_pred, y, X, W, b):\n",
    "    \"\"\"\n",
    "    Implements the backard pass of the fully connected output layer\n",
    "    \"\"\"\n",
    "    m = len(y)\n",
    "    \n",
    "    dZ = y_pred - y\n",
    "    dW = np.dot(X.T, dZ) / m\n",
    "    db = np.sum(dZ, axis = 0).reshape(b.shape) / m\n",
    "    dX = np.dot(dZ, W.T)\n",
    "    return dX, dW, db"
   ]
  },
  {
   "cell_type": "markdown",
   "metadata": {},
   "source": [
    "### 2.2.5 Backward Propagation Function"
   ]
  },
  {
   "cell_type": "code",
   "execution_count": 21,
   "metadata": {},
   "outputs": [],
   "source": [
    "def backward_prop(x, y, caches, params, lmbda):\n",
    "    \"\"\"\n",
    "    Implements backward propagation of all layers of the ConvNet\n",
    "    \"\"\"\n",
    "    grads = {}\n",
    "    m = len(y)\n",
    "    \n",
    "    # F2 - FULLY CONNECTED OUTPUT LAYER\n",
    "    dX_f2, grads[\"dW_f2\"], grads[\"db_f2\"] = \\\n",
    "    softmax_backward(caches[\"A_f2\"], y, caches[\"A_f1\"], \n",
    "                     params[\"W_f2\"], params[\"b_f2\"])\n",
    "    \n",
    "    # F1 - FULLY CONNECTED LAYER\n",
    "    dX_f1, grads[\"dW_f1\"], grads[\"db_f1\"] = \\\n",
    "    fc_backward(dX_f2, caches[\"A_f1\"], caches[\"A_flatten\"], \n",
    "                params[\"W_f1\"], params[\"b_f1\"])\n",
    "    \n",
    "    # -------- RESHAPE --------\n",
    "    dX_c3 = dX_f1.reshape(caches[\"Z_c3\"].shape)                           \n",
    "\n",
    "    # a3 - RELU ACTIVATION FUNCTION\n",
    "    dZ_c3 = dX_c3 * _relu(caches[\"Z_c3\"], deriv = True)\n",
    "    # C3 - CONVOLUTION LAYER\n",
    "    dA_c3, grads[\"dW_c3\"], grads[\"db_c3\"] = \\\n",
    "    conv_backward(dZ_c3, caches[\"cache_c3\"])\n",
    "    \n",
    "    \n",
    "    # P2 - POOLING LAYER\n",
    "    dZ_p2 = pool_backward(dA_c3, caches[\"cache_p2\"])\n",
    "    # a2 - RELU ACTIVATION FUNCTION\n",
    "    dZ_c2 = dZ_p2 * _relu(caches[\"Z_c2\"], deriv = True)\n",
    "    # C2 - CONVOLUTION LAYER\n",
    "    dA_c2, grads[\"dW_c2\"], grads[\"db_c2\"] = \\\n",
    "    conv_backward(dZ_c2, caches[\"cache_c2\"])\n",
    "    \n",
    "    \n",
    "    # P1 - POOLING LAYER\n",
    "    dZ_p1 = pool_backward(dA_c2, caches[\"cache_p1\"])                                                               \n",
    "    # a1 - RELU ACTIVATION FUNCTION\n",
    "    dZ_c1 = dZ_p1 * _relu(caches[\"Z_c1\"], deriv = True)\n",
    "    # C1 - CONVOLUTION LAYER\n",
    "    dA_c1, grads[\"dW_c1\"], grads[\"db_c1\"] = \\\n",
    "    conv_backward(dZ_c1, caches[\"cache_c1\"])\n",
    "    \n",
    "    for key in params:\n",
    "        if \"W\" in key:\n",
    "            grads[\"d\"+key] += lmbda * params[key]/m\n",
    "            \n",
    "    return grads"
   ]
  },
  {
   "cell_type": "markdown",
   "metadata": {},
   "source": [
    "## 2.3 Utility functions"
   ]
  },
  {
   "cell_type": "markdown",
   "metadata": {},
   "source": [
    "### 2.3.1 Initialise parameters"
   ]
  },
  {
   "cell_type": "code",
   "execution_count": 24,
   "metadata": {},
   "outputs": [],
   "source": [
    "def init_params():\n",
    "    \"\"\"\n",
    "    Randomly initialises parameters (Weights and biases) from a \n",
    "    normal distribution and initialises hyperparameters \n",
    "    (padding, stride and receptive field size) of the \n",
    "    convolution and pooling layers.\n",
    "    \"\"\"\n",
    "    params, hparams = {}, {}\n",
    "    mu, sigma = 0, 0.1\n",
    "    \n",
    "    params[\"W_c1\"] = np.random.normal(mu, sigma, size=(5,5,1,6))\n",
    "    params[\"b_c1\"] = np.ones((1,1,1,6)) * 0.1\n",
    "    \n",
    "    params[\"W_c2\"] = np.random.normal(mu, sigma, size=(5,5,6,16))\n",
    "    params[\"b_c2\"] = np.ones((1,1,1,16)) * 0.1\n",
    "    \n",
    "    params[\"W_c3\"] = np.random.normal(mu, sigma, size=(5,5,16,120))\n",
    "    params[\"b_c3\"] = np.ones((1,1,1,120)) * 0.1\n",
    "    \n",
    "    params[\"W_f1\"] = np.random.normal(mu, sigma, size=(120,84))\n",
    "    params[\"b_f1\"] = np.ones((1,84)) + 0.1\n",
    "    \n",
    "    params[\"W_f2\"] = np.random.normal(mu, sigma, size=(84,10))\n",
    "    params[\"b_f2\"] = np.ones((1,10)) + 0.1\n",
    "    \n",
    "    hparams[\"hparams_conv\"] = {\"pad\": 0, \"stride\": 1}\n",
    "    hparams[\"hparams_pool\"] = {\"f\": 2, \"stride\": 2}\n",
    "    \n",
    "    return params, hparams"
   ]
  },
  {
   "cell_type": "markdown",
   "metadata": {},
   "source": [
    "### 2.3.2 Update parameters"
   ]
  },
  {
   "cell_type": "code",
   "execution_count": 25,
   "metadata": {},
   "outputs": [],
   "source": [
    "def update_params(params, grads, momentum, learning_rate, beta):\n",
    "    \"\"\"\n",
    "    Updates training weights using backpropagated gradients\n",
    "    \"\"\"\n",
    "    for key in params:\n",
    "        momentum[key] = beta * momentum[key] + grads[\"d\"+key]\n",
    "        params[key] -= learning_rate * momentum[key]\n",
    "    return params, momentum"
   ]
  },
  {
   "cell_type": "markdown",
   "metadata": {},
   "source": [
    "### 2.3.3 Calculate Loss and Accuracy"
   ]
  },
  {
   "cell_type": "code",
   "execution_count": 26,
   "metadata": {},
   "outputs": [],
   "source": [
    "def calculate_loss_accuracy(y, y_pred, params, lmbda):\n",
    "    \"\"\"\n",
    "    Calculates the model accuracy and cross entropy loss with L2 \n",
    "    regularisation, after each training step\n",
    "    \"\"\"\n",
    "    m = len(y)\n",
    "    loss_reg = 0\n",
    "        \n",
    "    loss = (-1/m)* (np.sum(np.log(y_pred) * y) + \\\n",
    "                    np.sum(np.log(1-y_pred)*(1-y)))\n",
    "    \n",
    "    for key in params:\n",
    "        if \"W_\" in key:\n",
    "            loss_reg += np.sum(params[key]**2)\n",
    "            \n",
    "    loss += (lmbda/(2*m))* loss_reg\n",
    "    \n",
    "    accuracy = np.sum(np.argmax(y,1) == np.argmax(y_pred,1))/m\n",
    "    return loss, accuracy"
   ]
  },
  {
   "cell_type": "markdown",
   "metadata": {},
   "source": [
    "## 2.4 Model Training"
   ]
  },
  {
   "cell_type": "code",
   "execution_count": 27,
   "metadata": {},
   "outputs": [],
   "source": [
    "def train(x, y, batch_size=128, epochs=4, lmbda=0.5, beta=0.9):\n",
    "    J = []  # stores the loss of every batch\n",
    "    A = []  # stores the accuracy of every batch\n",
    "    momentum = {}\n",
    "    \n",
    "    params, hparams = init_params()\n",
    "    \n",
    "    for key in params:\n",
    "        momentum[key] = np.zeros_like(params[key])\n",
    "        \n",
    "        \n",
    "    learning_rates = [0.01, 0.01, 0.005, 0.001]\n",
    "\n",
    "    for i in range(epochs):\n",
    "        learning_rate = learning_rates[i]\n",
    "        \n",
    "        for batch in range(0, x_train.shape[0]//batch_size):\n",
    "            # extract mini batch\n",
    "            x_batch = x[batch*batch_size : (batch+1)*batch_size]\n",
    "            y_batch = y[batch*batch_size : (batch+1)*batch_size]\n",
    "\n",
    "            y_pred, caches = forward_prop(x_batch, params, hparams)\n",
    "            loss, accuracy = calculate_loss_accuracy(y_batch, y_pred, \n",
    "                                                     params, lmbda)\n",
    "            grads = backward_prop(x_batch,y_batch, caches, params, lmbda)\n",
    "\n",
    "            # update training parameters\n",
    "            params, momentum = update_params(params, grads, momentum, \n",
    "                                             learning_rate, beta)\n",
    "\n",
    "            # append the loss and accuracy of every batch\n",
    "            J.append(loss)\n",
    "            A.append(accuracy)\n",
    "\n",
    "            # print loss and accuracy of the batch dataset\n",
    "            if(batch%100==0):\n",
    "                print('Epoch : %d'%i)\n",
    "                print('Step : %d'%batch)\n",
    "                print('Loss : %f'%loss)\n",
    "                print('Accuracy : %f%%'%(round(accuracy*100,2)))\n",
    "                print('---------------------')\n",
    "            \n",
    "    return J, A, params, epochs"
   ]
  },
  {
   "cell_type": "code",
   "execution_count": 29,
   "metadata": {
    "scrolled": true
   },
   "outputs": [
    {
     "name": "stdout",
     "output_type": "stream",
     "text": [
      "Epoch : 0\n",
      "Step : 0\n",
      "Loss : 4.896542\n",
      "Accuracy : 6.250000%\n",
      "---------------------\n",
      "Epoch : 0\n",
      "Step : 100\n",
      "Loss : 2.192793\n",
      "Accuracy : 78.910000%\n",
      "---------------------\n",
      "Epoch : 0\n",
      "Step : 200\n",
      "Loss : 1.767894\n",
      "Accuracy : 85.940000%\n",
      "---------------------\n",
      "Epoch : 0\n",
      "Step : 300\n",
      "Loss : 1.482927\n",
      "Accuracy : 93.750000%\n",
      "---------------------\n",
      "Epoch : 1\n",
      "Step : 0\n",
      "Loss : 1.338645\n",
      "Accuracy : 94.530000%\n",
      "---------------------\n",
      "Epoch : 1\n",
      "Step : 100\n",
      "Loss : 1.455350\n",
      "Accuracy : 92.970000%\n",
      "---------------------\n",
      "Epoch : 1\n",
      "Step : 200\n",
      "Loss : 1.282280\n",
      "Accuracy : 91.410000%\n",
      "---------------------\n",
      "Epoch : 1\n",
      "Step : 300\n",
      "Loss : 1.099194\n",
      "Accuracy : 96.880000%\n",
      "---------------------\n",
      "Epoch : 2\n",
      "Step : 0\n",
      "Loss : 1.059728\n",
      "Accuracy : 96.090000%\n",
      "---------------------\n",
      "Epoch : 2\n",
      "Step : 100\n",
      "Loss : 1.192685\n",
      "Accuracy : 91.410000%\n",
      "---------------------\n",
      "Epoch : 2\n",
      "Step : 200\n",
      "Loss : 1.104100\n",
      "Accuracy : 92.970000%\n",
      "---------------------\n",
      "Epoch : 2\n",
      "Step : 300\n",
      "Loss : 0.955209\n",
      "Accuracy : 97.660000%\n",
      "---------------------\n",
      "Epoch : 3\n",
      "Step : 0\n",
      "Loss : 0.991050\n",
      "Accuracy : 96.880000%\n",
      "---------------------\n",
      "Epoch : 3\n",
      "Step : 100\n",
      "Loss : 1.147823\n",
      "Accuracy : 91.410000%\n",
      "---------------------\n",
      "Epoch : 3\n",
      "Step : 200\n",
      "Loss : 1.043724\n",
      "Accuracy : 94.530000%\n",
      "---------------------\n",
      "Epoch : 3\n",
      "Step : 300\n",
      "Loss : 0.940910\n",
      "Accuracy : 97.660000%\n",
      "---------------------\n"
     ]
    }
   ],
   "source": [
    "J, A, params, epochs = train(x_train, y_train)"
   ]
  },
  {
   "cell_type": "code",
   "execution_count": 30,
   "metadata": {},
   "outputs": [
    {
     "data": {
      "text/plain": [
       "[<matplotlib.lines.Line2D at 0x1a3e2bc588>]"
      ]
     },
     "execution_count": 30,
     "metadata": {},
     "output_type": "execute_result"
    },
    {
     "data": {
      "image/png": "[encoded data removed]",
      "text/plain": [
       "<Figure size 432x288 with 1 Axes>"
      ]
     },
     "metadata": {
      "needs_background": "light"
     },
     "output_type": "display_data"
    }
   ],
   "source": [
    "plt.plot([i for i in range(len(J))], J)"
   ]
  },
  {
   "cell_type": "code",
   "execution_count": 31,
   "metadata": {},
   "outputs": [
    {
     "data": {
      "text/plain": [
       "[<matplotlib.lines.Line2D at 0x1a3e251d30>]"
      ]
     },
     "execution_count": 31,
     "metadata": {},
     "output_type": "execute_result"
    },
    {
     "data": {
      "image/png": "[encoded data removed]",
      "text/plain": [
       "<Figure size 432x288 with 1 Axes>"
      ]
     },
     "metadata": {
      "needs_background": "light"
     },
     "output_type": "display_data"
    }
   ],
   "source": [
    "plt.plot([i for i in range(len(A))], A)"
   ]
  },
  {
   "cell_type": "markdown",
   "metadata": {},
   "source": [
    "## 2.5 Testing"
   ]
  },
  {
   "cell_type": "markdown",
   "metadata": {},
   "source": [
    "### 2.5.1 Accuracy"
   ]
  },
  {
   "cell_type": "code",
   "execution_count": 39,
   "metadata": {},
   "outputs": [],
   "source": [
    "hparams =  {}\n",
    "hparams[\"hparams_conv\"] = {\"pad\": 0, \"stride\": 1}\n",
    "hparams[\"hparams_pool\"] = {\"f\": 2, \"stride\": 2}"
   ]
  },
  {
   "cell_type": "code",
   "execution_count": 40,
   "metadata": {},
   "outputs": [
    {
     "name": "stdout",
     "output_type": "stream",
     "text": [
      "Accuracy of Train Set = 95.33\n",
      "Accuracy of Valid Set = 94.94\n",
      "Accuracy of Test  Set = 95.6\n"
     ]
    }
   ],
   "source": [
    "#for training set\n",
    "y_train_pred, _ = forward_prop(x_train, params, hparams)\n",
    "train_loss, train_accuracy = calculate_loss_accuracy(y_train, y_train_pred, params, lmbda = 0.5)\n",
    "print('Accuracy of Train Set = {}'.format(round(train_accuracy*100,2)))\n",
    "\n",
    "#for valid set\n",
    "y_val_pred, _ = forward_prop(x_val,params, hparams)\n",
    "val_loss, val_accuracy = calculate_loss_accuracy(y_val, y_val_pred, params, lmbda = 0.5)\n",
    "print('Accuracy of Valid Set = {}'.format(round(val_accuracy*100,2)))\n",
    "\n",
    "#for test set\n",
    "y_test_pred, _ = forward_prop(x_test, params, hparams)\n",
    "test_loss, test_accuracy = calculate_loss_accuracy(y_test, y_test_pred, params, lmbda =0.5)\n",
    "print('Accuracy of Test  Set = {}'.format(round(test_accuracy*100,2)))"
   ]
  },
  {
   "cell_type": "markdown",
   "metadata": {},
   "source": [
    "### 2.5.2 Example predictions"
   ]
  },
  {
   "cell_type": "code",
   "execution_count": 43,
   "metadata": {},
   "outputs": [
    {
     "name": "stdout",
     "output_type": "stream",
     "text": [
      "Test Image\n"
     ]
    },
    {
     "data": {
      "image/png": "[encoded data removed]",
      "text/plain": [
       "<Figure size 72x72 with 1 Axes>"
      ]
     },
     "metadata": {
      "needs_background": "light"
     },
     "output_type": "display_data"
    },
    {
     "name": "stdout",
     "output_type": "stream",
     "text": [
      "Predicted Label = 6\n",
      "\n",
      "\n",
      "Test Image\n"
     ]
    },
    {
     "data": {
      "image/png": "[encoded data removed]",
      "text/plain": [
       "<Figure size 72x72 with 1 Axes>"
      ]
     },
     "metadata": {
      "needs_background": "light"
     },
     "output_type": "display_data"
    },
    {
     "name": "stdout",
     "output_type": "stream",
     "text": [
      "Predicted Label = 4\n",
      "\n",
      "\n",
      "Test Image\n"
     ]
    },
    {
     "data": {
      "image/png": "[encoded data removed]",
      "text/plain": [
       "<Figure size 72x72 with 1 Axes>"
      ]
     },
     "metadata": {
      "needs_background": "light"
     },
     "output_type": "display_data"
    },
    {
     "name": "stdout",
     "output_type": "stream",
     "text": [
      "Predicted Label = 5\n",
      "\n",
      "\n",
      "Test Image\n"
     ]
    },
    {
     "data": {
      "image/png": "[encoded data removed]",
      "text/plain": [
       "<Figure size 72x72 with 1 Axes>"
      ]
     },
     "metadata": {
      "needs_background": "light"
     },
     "output_type": "display_data"
    },
    {
     "name": "stdout",
     "output_type": "stream",
     "text": [
      "Predicted Label = 2\n",
      "\n",
      "\n",
      "Test Image\n"
     ]
    },
    {
     "data": {
      "image/png": "[encoded data removed]",
      "text/plain": [
       "<Figure size 72x72 with 1 Axes>"
      ]
     },
     "metadata": {
      "needs_background": "light"
     },
     "output_type": "display_data"
    },
    {
     "name": "stdout",
     "output_type": "stream",
     "text": [
      "Predicted Label = 0\n",
      "\n",
      "\n",
      "Test Image\n"
     ]
    },
    {
     "data": {
      "image/png": "[encoded data removed]",
      "text/plain": [
       "<Figure size 72x72 with 1 Axes>"
      ]
     },
     "metadata": {
      "needs_background": "light"
     },
     "output_type": "display_data"
    },
    {
     "name": "stdout",
     "output_type": "stream",
     "text": [
      "Predicted Label = 5\n",
      "\n",
      "\n",
      "Test Image\n"
     ]
    },
    {
     "data": {
      "image/png": "[encoded data removed]",
      "text/plain": [
       "<Figure size 72x72 with 1 Axes>"
      ]
     },
     "metadata": {
      "needs_background": "light"
     },
     "output_type": "display_data"
    },
    {
     "name": "stdout",
     "output_type": "stream",
     "text": [
      "Predicted Label = 9\n",
      "\n",
      "\n",
      "Test Image\n"
     ]
    },
    {
     "data": {
      "image/png": "[encoded data removed]",
      "text/plain": [
       "<Figure size 72x72 with 1 Axes>"
      ]
     },
     "metadata": {
      "needs_background": "light"
     },
     "output_type": "display_data"
    },
    {
     "name": "stdout",
     "output_type": "stream",
     "text": [
      "Predicted Label = 3\n",
      "\n",
      "\n",
      "Test Image\n"
     ]
    },
    {
     "data": {
      "image/png": "[encoded data removed]",
      "text/plain": [
       "<Figure size 72x72 with 1 Axes>"
      ]
     },
     "metadata": {
      "needs_background": "light"
     },
     "output_type": "display_data"
    },
    {
     "name": "stdout",
     "output_type": "stream",
     "text": [
      "Predicted Label = 5\n",
      "\n",
      "\n",
      "Test Image\n"
     ]
    },
    {
     "data": {
      "image/png": "[encoded data removed]",
      "text/plain": [
       "<Figure size 72x72 with 1 Axes>"
      ]
     },
     "metadata": {
      "needs_background": "light"
     },
     "output_type": "display_data"
    },
    {
     "name": "stdout",
     "output_type": "stream",
     "text": [
      "Predicted Label = 3\n",
      "\n",
      "\n"
     ]
    }
   ],
   "source": [
    "idx = np.random.randint(0, x_test.shape[0], 10)\n",
    "\n",
    "x = x_test[:, 2:-2, 2:-2,:].reshape(x_test.shape[0],28,28)\n",
    "\n",
    "for i in idx:\n",
    "    print(\"Test Image\")\n",
    "    plt.figure(figsize = (1,1))\n",
    "    plt.imshow(x[i], cmap='gray')\n",
    "    plt.show()\n",
    "    print(\"Predicted Label = {}\".format(np.argmax(y_test_pred[i])))\n",
    "    print(\"\\n\")"
   ]
  }
 ],
 "metadata": {
  "kernelspec": {
   "display_name": "Python 3",
   "language": "python",
   "name": "python3"
  },
  "language_info": {
   "codemirror_mode": {
    "name": "ipython",
    "version": 3
   },
   "file_extension": ".py",
   "mimetype": "text/x-python",
   "name": "python",
   "nbconvert_exporter": "python",
   "pygments_lexer": "ipython3",
   "version": "3.7.1"
  }
 },
 "nbformat": 4,
 "nbformat_minor": 2
}
